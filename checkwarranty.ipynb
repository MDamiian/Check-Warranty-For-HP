{
  "nbformat": 4,
  "nbformat_minor": 0,
  "metadata": {
    "colab": {
      "provenance": []
    },
    "kernelspec": {
      "name": "python3",
      "display_name": "Python 3"
    },
    "language_info": {
      "name": "python"
    }
  },
  "cells": [
    {
      "cell_type": "code",
      "execution_count": null,
      "metadata": {
        "id": "xGQNARJUXyWo"
      },
      "outputs": [],
      "source": [
        "!pip install selenium"
      ]
    },
    {
      "cell_type": "code",
      "source": [
        "from selenium import webdriver\n",
        "from selenium.webdriver.edge.options import Options\n",
        "from selenium.webdriver.common.by import By\n",
        "from selenium.webdriver.support.ui import WebDriverWait\n",
        "from selenium.webdriver.support import expected_conditions as EC\n",
        "import time\n",
        "import csv\n"
      ],
      "metadata": {
        "id": "lZfIZK4OX9wQ"
      },
      "execution_count": 22,
      "outputs": []
    },
    {
      "cell_type": "code",
      "source": [
        "# Configure Edge in headless mode\n",
        "edge_options = Options()\n",
        "edge_options.add_argument(\"--headless=new\")\n",
        "edge_options.add_argument(\"--disable-gpu\")\n",
        "edge_options.add_argument(\"--no-sandbox\")\n",
        "edge_options.add_argument(\"--disable-dev-shm-usage\")\n",
        "edge_options.add_argument(\"--log-level=3\")\n",
        "edge_options.add_argument('user-agent=Mozilla/5.0 (Windows NT 10.0; Win64; x64) AppleWebKit/537.36 (KHTML, like Gecko) Chrome/123.0.0.0 Safari/537.36')\n",
        "\n",
        "\n",
        "driver = webdriver.Edge(options=edge_options)\n",
        "\n",
        "# Function to read serial numbers from file\n",
        "def readSerialNumber(path):\n",
        "    with open(path, \"r\") as f:\n",
        "        return [line.strip() for line in f if line.strip()]\n",
        "\n",
        "# Function to search for warranty date by serial number\n",
        "def getStatus(serial):\n",
        "    driver.get(\"https://support.hp.com/mx-es/check-warranty\")\n",
        "\n",
        "    wait = WebDriverWait(driver, 10)\n",
        "\n",
        "    # Wait for the form field to load\n",
        "    input_element = wait.until(EC.presence_of_element_located((By.ID, 'inputtextpfinder')))\n",
        "    input_element.clear()\n",
        "    input_element.send_keys(serial)\n",
        "\n",
        "    from selenium.common.exceptions import TimeoutException\n",
        "\n",
        "    # Wait and click the accept cookies button if it appears\n",
        "    try:\n",
        "        privacy_accept = WebDriverWait(driver, 5).until(\n",
        "            EC.element_to_be_clickable((By.ID, 'onetrust-accept-btn-handler'))\n",
        "        )\n",
        "        privacy_accept.click()\n",
        "    except TimeoutException:\n",
        "        print(\"Privacy notice did not appear.\")\n",
        "\n",
        "    submit_button = wait.until(EC.element_to_be_clickable((By.ID, 'FindMyProduct')))\n",
        "    submit_button.click()\n",
        "\n",
        "    # Wait for the warranty end date to appear\n",
        "    try:\n",
        "        warrantyStartDate = wait.until(EC.visibility_of_element_located(\n",
        "            (By.XPATH, \"//div[contains(@class, 'info-item')]//div[contains(text(), 'Fecha de inicio') or contains(text(), 'Start date')]/following-sibling::div\"))).text\n",
        "\n",
        "        warrantyEndDate = wait.until(EC.visibility_of_element_located(\n",
        "            (By.XPATH, \"//div[contains(@class, 'info-item')]//div[contains(text(), 'Fecha de expiración') or contains(text(), 'End date')]/following-sibling::div\"))).text\n",
        "\n",
        "        status = wait.until(EC.visibility_of_element_located(\n",
        "            (By.XPATH, \"//div[contains(@class, 'info-item')]//div[contains(text(), 'Estado') or contains(text(), 'Status')]/following-sibling::div\"))).text\n",
        "\n",
        "        return {\n",
        "            \"Serial\": serial,\n",
        "            \"Start Date\": warrantyStartDate,\n",
        "            \"End Date\": warrantyEndDate,\n",
        "            \"Status\": status\n",
        "        }\n",
        "\n",
        "    except Exception as e:\n",
        "        print(f\"Could not find warranty info for {serial}: {e}\")\n",
        "        return {\"Serial\": serial, \"Start Date\": \"\", \"End Date\": \"\", \"Status\": \"No Data\"}\n",
        "\n",
        "\n",
        "# Path to the file with serial numbers\n",
        "serial_file = \"seriales.txt\"\n",
        "\n",
        "serialNumber = readSerialNumber(archivo_seriales)\n",
        "\n",
        "results = []\n",
        "\n",
        "for serial in serialNumber:\n",
        "    print(f\"Checking warranty for: {serial}\")\n",
        "    result = getStatus(serial)\n",
        "    results.append(result)\n",
        "    time.sleep(5)  # pause to avoid blocking\n",
        "\n",
        "driver.quit()\n",
        "\n",
        "csv_file = \"warranty_results.csv\"\n",
        "with open(csv_file, mode='w', newline='', encoding='utf-8') as f:\n",
        "    fieldnames = [\"Serial\", \"Start Date\", \"End Date\", \"Status\"]\n",
        "    writer = csv.DictWriter(f, fieldnames=fieldnames)\n",
        "    writer.writeheader()\n",
        "    for row in results:\n",
        "        writer.writerow(row)\n",
        "\n",
        "print(f\"\\nResults saved to: {csv_file}\")\n",
        "\n",
        "\n"
      ],
      "metadata": {
        "colab": {
          "base_uri": "https://localhost:8080/"
        },
        "id": "yNlPy27sYzqm",
        "outputId": "bae2e258-bc1f-40b9-a9fc-551c07dd2fa6"
      },
      "execution_count": 23,
      "outputs": [
        {
          "output_type": "stream",
          "name": "stdout",
          "text": [
            "Consultando garantía para: 5CD350LGYG\n",
            "Consultando garantía para: 5CD350LGYG\n",
            "No apareció el aviso de privacidad.\n"
          ]
        }
      ]
    }
  ]
}